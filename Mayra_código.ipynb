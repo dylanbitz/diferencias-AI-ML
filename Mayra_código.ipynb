{
  "cells": [
    {
      "cell_type": "code",
      "execution_count": 1,
      "id": "b7cbdc72",
      "metadata": {
        "id": "b7cbdc72"
      },
      "outputs": [],
      "source": [
        "import numpy as np"
      ]
    },
    {
      "cell_type": "code",
      "execution_count": 2,
      "id": "4af04e12",
      "metadata": {
        "colab": {
          "base_uri": "https://localhost:8080/"
        },
        "id": "4af04e12",
        "outputId": "0a730ac1-e6a0-46ac-c666-8aa1ecf737bb"
      },
      "outputs": [
        {
          "output_type": "stream",
          "name": "stdout",
          "text": [
            "Promedio total con np.mean():\n",
            "17.5\n"
          ]
        }
      ],
      "source": [
        "# Estadística\n",
        "arreglo = np.array([[23,24,25],\n",
        "                 [10,11,12]])\n",
        "print(\"Promedio total con np.mean():\")\n",
        "print(np.mean(arreglo))   # promedio de todos los elementos"
      ]
    },
    {
      "cell_type": "code",
      "execution_count": 3,
      "id": "2de99cca",
      "metadata": {
        "colab": {
          "base_uri": "https://localhost:8080/"
        },
        "id": "2de99cca",
        "outputId": "236c85a8-4d6d-43c9-f88e-c7c7bb953895"
      },
      "outputs": [
        {
          "output_type": "stream",
          "name": "stdout",
          "text": [
            "Promedio por columnas (axis=0):\n",
            "[16.5 17.5 18.5]\n"
          ]
        }
      ],
      "source": [
        "print(\"Promedio por columnas (axis=0):\")\n",
        "print(np.mean(arreglo, axis=0))   # promedio por columna"
      ]
    },
    {
      "cell_type": "code",
      "execution_count": 4,
      "id": "93128c78",
      "metadata": {
        "colab": {
          "base_uri": "https://localhost:8080/"
        },
        "id": "93128c78",
        "outputId": "4117be53-e659-4112-fddf-34ae28e4f735"
      },
      "outputs": [
        {
          "output_type": "stream",
          "name": "stdout",
          "text": [
            "Promedio por filas (axis=1):\n",
            "[24. 11.]\n"
          ]
        }
      ],
      "source": [
        "print(\"Promedio por filas (axis=1):\")\n",
        "print(np.mean(arreglo, axis=1))   # promedio por fila"
      ]
    },
    {
      "cell_type": "code",
      "execution_count": 5,
      "id": "2adab2b0",
      "metadata": {
        "colab": {
          "base_uri": "https://localhost:8080/"
        },
        "id": "2adab2b0",
        "outputId": "a1fb22cb-097d-44a8-88f1-fa713086c64e"
      },
      "outputs": [
        {
          "output_type": "stream",
          "name": "stdout",
          "text": [
            "Desviación estándar total con np.std():\n",
            "6.551081335677848\n",
            "\n",
            "Desviación estándar por columnas (axis=0):\n",
            "[6.5 6.5 6.5]\n"
          ]
        }
      ],
      "source": [
        "print(\"Desviación estándar total con np.std():\")\n",
        "print(np.std(arreglo))\n",
        "print()\n",
        "print(\"Desviación estándar por columnas (axis=0):\")\n",
        "print(np.std(arreglo, axis=0))"
      ]
    },
    {
      "cell_type": "code",
      "execution_count": 6,
      "id": "b5be0b66",
      "metadata": {
        "colab": {
          "base_uri": "https://localhost:8080/"
        },
        "id": "b5be0b66",
        "outputId": "7436026c-93e3-4e24-88b4-dd8636cea121"
      },
      "outputs": [
        {
          "output_type": "stream",
          "name": "stdout",
          "text": [
            "Suma total con np.sum():\n",
            "105\n",
            "\n",
            "Suma por columnas (axis=0):\n",
            "[33 35 37]\n",
            "\n",
            "Suma por filas (axis=1):\n",
            "[72 33]\n",
            "\n"
          ]
        }
      ],
      "source": [
        "print(\"Suma total con np.sum():\")\n",
        "print(np.sum(arreglo))\n",
        "print()\n",
        "\n",
        "print(\"Suma por columnas (axis=0):\")\n",
        "print(np.sum(arreglo, axis=0))\n",
        "print()\n",
        "\n",
        "print(\"Suma por filas (axis=1):\")\n",
        "print(np.sum(arreglo, axis=1))\n",
        "print()"
      ]
    },
    {
      "cell_type": "code",
      "execution_count": 7,
      "id": "1497c01f",
      "metadata": {
        "colab": {
          "base_uri": "https://localhost:8080/"
        },
        "id": "1497c01f",
        "outputId": "7c995fef-4c2c-4fce-9bbb-ea970602952d"
      },
      "outputs": [
        {
          "output_type": "stream",
          "name": "stdout",
          "text": [
            "Ejemplo de np.arange(inicio, fin, paso):\n",
            "[0 2 4 6 8]\n",
            "\n",
            "Otro ejemplo con np.arange(inicio, fin):\n",
            "[ 5  6  7  8  9 10 11 12 13 14]\n",
            "\n"
          ]
        }
      ],
      "source": [
        "# Secuencias\n",
        "print(\"Ejemplo de np.arange(inicio, fin, paso):\")\n",
        "arr1 = np.arange(0, 10, 2)   # desde 0 hasta <10, de 2 en 2\n",
        "print(arr1)\n",
        "print()\n",
        "\n",
        "print(\"Otro ejemplo con np.arange(inicio, fin):\")\n",
        "arr2 = np.arange(5, 15)   # desde 5 hasta <15, de 1 en 1 (por defecto)\n",
        "print(arr2)\n",
        "print()"
      ]
    },
    {
      "cell_type": "code",
      "execution_count": 8,
      "id": "96518366",
      "metadata": {
        "colab": {
          "base_uri": "https://localhost:8080/"
        },
        "id": "96518366",
        "outputId": "13686f51-2190-4174-aee6-2c4b3671f4c4"
      },
      "outputs": [
        {
          "output_type": "stream",
          "name": "stdout",
          "text": [
            "Ejemplo de np.linspace(inicio, fin, num):\n",
            "[0.   0.25 0.5  0.75 1.  ]\n",
            "\n",
            "Otro ejemplo de np.linspace con endpoint=False:\n",
            "[0.  2.5 5.  7.5]\n",
            "\n"
          ]
        }
      ],
      "source": [
        "print(\"Ejemplo de np.linspace(inicio, fin, num):\")\n",
        "lin1 = np.linspace(0, 1, 5)   # 5 puntos entre 0 y 1\n",
        "print(lin1)\n",
        "print()\n",
        "\n",
        "print(\"Otro ejemplo de np.linspace con endpoint=False:\")\n",
        "lin2 = np.linspace(0, 10, 4, endpoint=False)  # excluye el 10\n",
        "print(lin2)\n",
        "print()"
      ]
    },
    {
      "cell_type": "code",
      "execution_count": 9,
      "id": "d58db621",
      "metadata": {
        "colab": {
          "base_uri": "https://localhost:8080/"
        },
        "id": "d58db621",
        "outputId": "003fe25e-af85-4c1f-f487-ecfcbe16f9cd"
      },
      "outputs": [
        {
          "output_type": "stream",
          "name": "stdout",
          "text": [
            "Fijamos la semilla para reproducibilidad (seed=42):\n"
          ]
        }
      ],
      "source": [
        "# grupos aleatorios\n",
        "print(\"Fijamos la semilla para reproducibilidad (seed=42):\")\n",
        "np.random.seed(42)"
      ]
    },
    {
      "cell_type": "code",
      "execution_count": 10,
      "id": "8e4eb7de",
      "metadata": {
        "colab": {
          "base_uri": "https://localhost:8080/"
        },
        "id": "8e4eb7de",
        "outputId": "3f1d93bc-6339-439d-d90c-7ad368834ed1"
      },
      "outputs": [
        {
          "output_type": "stream",
          "name": "stdout",
          "text": [
            "\n",
            "Ejemplo de np.random.rand(2, 3):\n",
            "[[0.37454012 0.95071431 0.73199394]\n",
            " [0.59865848 0.15601864 0.15599452]]\n"
          ]
        }
      ],
      "source": [
        "print(\"\\nEjemplo de np.random.rand(2, 3):\")\n",
        "rand_uniforme = np.random.rand(2, 3)   # distribución uniforme [0,1)\n",
        "print(rand_uniforme)"
      ]
    },
    {
      "cell_type": "code",
      "execution_count": 11,
      "id": "8189e8c1",
      "metadata": {
        "colab": {
          "base_uri": "https://localhost:8080/"
        },
        "id": "8189e8c1",
        "outputId": "82210338-2b85-4423-b3bf-2874c6f35978"
      },
      "outputs": [
        {
          "output_type": "stream",
          "name": "stdout",
          "text": [
            "\n",
            "Ejemplo de np.random.randn(2, 3):\n",
            "[[ 1.57921282  0.76743473 -0.46947439]\n",
            " [ 0.54256004 -0.46341769 -0.46572975]]\n"
          ]
        }
      ],
      "source": [
        "print(\"\\nEjemplo de np.random.randn(2, 3):\")\n",
        "rand_normal = np.random.randn(2, 3)   # distribución normal (media=0, var=1)\n",
        "print(rand_normal)"
      ]
    },
    {
      "cell_type": "code",
      "execution_count": 12,
      "id": "162ca04a",
      "metadata": {
        "colab": {
          "base_uri": "https://localhost:8080/"
        },
        "id": "162ca04a",
        "outputId": "bcd33619-31b7-4f76-c311-5e79493e42f1"
      },
      "outputs": [
        {
          "output_type": "stream",
          "name": "stdout",
          "text": [
            "\n",
            "Ejemplo de np.random.randint(0, 10, size=(2, 3)):\n",
            "[[9 5 8]\n",
            " [0 9 2]]\n"
          ]
        }
      ],
      "source": [
        "print(\"\\nEjemplo de np.random.randint(0, 10, size=(2, 3)):\")\n",
        "rand_enteros = np.random.randint(0, 10, size=(2, 3))   # enteros entre 0 y 9\n",
        "print(rand_enteros)"
      ]
    },
    {
      "cell_type": "code",
      "execution_count": 13,
      "id": "996dd0b6",
      "metadata": {
        "colab": {
          "base_uri": "https://localhost:8080/"
        },
        "id": "996dd0b6",
        "outputId": "ea7f72cf-d9d3-4ffc-fd39-8b074dec72e4"
      },
      "outputs": [
        {
          "output_type": "stream",
          "name": "stdout",
          "text": [
            "Producto escalar / matricial con np.dot(A, B):\n",
            "[[19 22]\n",
            " [43 50]]\n"
          ]
        }
      ],
      "source": [
        "# Algebra Lineal\n",
        "A = np.array([[1, 2],\n",
        "              [3, 4]])\n",
        "\n",
        "B = np.array([[5, 6],\n",
        "              [7, 8]])\n",
        "print(\"Producto escalar / matricial con np.dot(A, B):\")\n",
        "print(np.dot(A, B))"
      ]
    },
    {
      "cell_type": "code",
      "execution_count": 14,
      "id": "8394879d",
      "metadata": {
        "colab": {
          "base_uri": "https://localhost:8080/"
        },
        "id": "8394879d",
        "outputId": "3d060aef-40a7-4f01-dbcb-1921ced7ff09"
      },
      "outputs": [
        {
          "output_type": "stream",
          "name": "stdout",
          "text": [
            "Multiplicación matricial con np.matmul(A, B) o A @ B:\n",
            "[[19 22]\n",
            " [43 50]]\n",
            "[[19 22]\n",
            " [43 50]]\n"
          ]
        }
      ],
      "source": [
        "print(\"Multiplicación matricial con np.matmul(A, B) o A @ B:\")\n",
        "print(np.matmul(A, B))\n",
        "print(A @ B)   # forma abreviada"
      ]
    },
    {
      "cell_type": "code",
      "execution_count": 15,
      "id": "712571d7",
      "metadata": {
        "colab": {
          "base_uri": "https://localhost:8080/"
        },
        "id": "712571d7",
        "outputId": "cf23d6aa-73f5-451d-b81a-945564fe110d"
      },
      "outputs": [
        {
          "output_type": "stream",
          "name": "stdout",
          "text": [
            "Determinante de A con np.linalg.det(A):\n",
            "-2.0000000000000004\n"
          ]
        }
      ],
      "source": [
        "print(\"Determinante de A con np.linalg.det(A):\")\n",
        "print(np.linalg.det(A))"
      ]
    },
    {
      "cell_type": "code",
      "execution_count": 16,
      "id": "2ff66938",
      "metadata": {
        "colab": {
          "base_uri": "https://localhost:8080/"
        },
        "id": "2ff66938",
        "outputId": "81bd261b-c0dc-42f8-e712-ecb8516e5bbf"
      },
      "outputs": [
        {
          "output_type": "stream",
          "name": "stdout",
          "text": [
            "Matriz inversa de A con np.linalg.inv(A):\n",
            "[[-2.   1. ]\n",
            " [ 1.5 -0.5]]\n"
          ]
        }
      ],
      "source": [
        "print(\"Matriz inversa de A con np.linalg.inv(A):\")\n",
        "print(np.linalg.inv(A))"
      ]
    },
    {
      "cell_type": "code",
      "execution_count": 17,
      "id": "178d31d2",
      "metadata": {
        "colab": {
          "base_uri": "https://localhost:8080/"
        },
        "id": "178d31d2",
        "outputId": "9d349c6c-fb5c-441b-f240-f0e46f83466e"
      },
      "outputs": [
        {
          "output_type": "stream",
          "name": "stdout",
          "text": [
            "Autovalores y autovectores de A con np.linalg.eig(A):\n",
            "Autovalores: [-0.37228132  5.37228132]\n",
            "Autovectores:\n",
            " [[-0.82456484 -0.41597356]\n",
            " [ 0.56576746 -0.90937671]]\n"
          ]
        }
      ],
      "source": [
        "print(\"Autovalores y autovectores de A con np.linalg.eig(A):\")\n",
        "vals, vecs = np.linalg.eig(A)\n",
        "print(\"Autovalores:\", vals)\n",
        "print(\"Autovectores:\\n\", vecs)"
      ]
    },
    {
      "cell_type": "code",
      "execution_count": 18,
      "id": "083d5b28",
      "metadata": {
        "colab": {
          "base_uri": "https://localhost:8080/"
        },
        "id": "083d5b28",
        "outputId": "4e829c33-2cb2-40d1-bd8c-252bcdc30e7b"
      },
      "outputs": [
        {
          "output_type": "stream",
          "name": "stdout",
          "text": [
            "Resolver sistema de ecuaciones Ax = b con np.linalg.solve(A, b):\n",
            "Solución x: [0.  0.5]\n"
          ]
        }
      ],
      "source": [
        "print(\"Resolver sistema de ecuaciones Ax = b con np.linalg.solve(A, b):\")\n",
        "b = np.array([1, 2])\n",
        "x = np.linalg.solve(A, b)\n",
        "print(\"Solución x:\", x)"
      ]
    }
  ],
  "metadata": {
    "kernelspec": {
      "display_name": "Python 3",
      "language": "python",
      "name": "python3"
    },
    "language_info": {
      "codemirror_mode": {
        "name": "ipython",
        "version": 3
      },
      "file_extension": ".py",
      "mimetype": "text/x-python",
      "name": "python",
      "nbconvert_exporter": "python",
      "pygments_lexer": "ipython3",
      "version": "3.13.2"
    },
    "colab": {
      "provenance": []
    }
  },
  "nbformat": 4,
  "nbformat_minor": 5
}