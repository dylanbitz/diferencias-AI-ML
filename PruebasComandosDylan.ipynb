{
 "cells": [
  {
   "cell_type": "code",
   "execution_count": 1,
   "id": "4cbde26f",
   "metadata": {},
   "outputs": [],
   "source": [
    "import numpy as np\n",
    "from pprint import pprint"
   ]
  },
  {
   "cell_type": "code",
   "execution_count": 2,
   "id": "c395c5f7",
   "metadata": {},
   "outputs": [
    {
     "data": {
      "text/plain": [
       "array([10, 15, 20, 25])"
      ]
     },
     "execution_count": 2,
     "metadata": {},
     "output_type": "execute_result"
    }
   ],
   "source": [
    "np.arange(10,30,5)"
   ]
  },
  {
   "cell_type": "code",
   "execution_count": 6,
   "id": "ad06a152",
   "metadata": {},
   "outputs": [
    {
     "data": {
      "text/plain": [
       "array([1. , 2. , 3. , 4. , 5.7])"
      ]
     },
     "execution_count": 6,
     "metadata": {},
     "output_type": "execute_result"
    }
   ],
   "source": [
    "a = [1,2,3,4,5.7]\n",
    "a_array = np.array(a)\n",
    "a_array"
   ]
  },
  {
   "cell_type": "code",
   "execution_count": 13,
   "id": "bf41e5c5",
   "metadata": {},
   "outputs": [
    {
     "name": "stdout",
     "output_type": "stream",
     "text": [
      "dimensiones:  2 \n",
      "\n",
      "tipo de array:  float64\n"
     ]
    },
    {
     "data": {
      "text/plain": [
       "array([[0., 0.],\n",
       "       [0., 0.]])"
      ]
     },
     "execution_count": 13,
     "metadata": {},
     "output_type": "execute_result"
    }
   ],
   "source": [
    "array2 = np.zeros((2,2)) # el primer argumento es el shape del array\n",
    "print(\"dimensiones: \", array2.ndim, \"\\n\")\n",
    "print(\"tipo de array: \", array2.dtype)\n",
    "array2"
   ]
  },
  {
   "cell_type": "code",
   "execution_count": 16,
   "id": "fe790c4f",
   "metadata": {},
   "outputs": [
    {
     "name": "stdout",
     "output_type": "stream",
     "text": [
      "dimensiones:  2 \n",
      "\n",
      "tipo de array:  float64\n"
     ]
    },
    {
     "data": {
      "text/plain": [
       "array([[1., 1.],\n",
       "       [1., 1.],\n",
       "       [1., 1.]])"
      ]
     },
     "execution_count": 16,
     "metadata": {},
     "output_type": "execute_result"
    }
   ],
   "source": [
    "array2 = np.ones((3,2)) # el primer argumento es el shape del array\n",
    "print(\"dimensiones: \", array2.ndim, \"\\n\")\n",
    "print(\"tipo de array: \", array2.dtype)\n",
    "array2"
   ]
  },
  {
   "cell_type": "code",
   "execution_count": 19,
   "id": "dadb8b78",
   "metadata": {},
   "outputs": [
    {
     "data": {
      "text/plain": [
       "array([[1, 2],\n",
       "       [3, 4],\n",
       "       [5, 6]])"
      ]
     },
     "execution_count": 19,
     "metadata": {},
     "output_type": "execute_result"
    }
   ],
   "source": [
    "array2 = np.array([1,2,3,4,5,6])\n",
    "array_transformado = array2.reshape((3,2)) \n",
    "# hay que tener en cuenta que el shape tiene que coicidir \n",
    "# con la cantidad (length) del array. 2*3 = 6\n",
    "array_transformado"
   ]
  },
  {
   "cell_type": "code",
   "execution_count": 20,
   "id": "f5f76e41",
   "metadata": {},
   "outputs": [
    {
     "data": {
      "text/plain": [
       "array([[ 1,  7, 44],\n",
       "       [46, 78, 95]])"
      ]
     },
     "execution_count": 20,
     "metadata": {},
     "output_type": "execute_result"
    }
   ],
   "source": [
    "array2 = np.array([1,7,44,46,78,95])\n",
    "array_transformado = array2.reshape((2,-1)) # el -1 permite autocalcular la dimensión\n",
    "array_transformado"
   ]
  },
  {
   "cell_type": "code",
   "execution_count": 14,
   "id": "0581603f",
   "metadata": {},
   "outputs": [
    {
     "name": "stdout",
     "output_type": "stream",
     "text": [
      "array([[1, 2],\n",
      "       [3, 4],\n",
      "       [5, 6],\n",
      "       [7, 8]])\n",
      "array([[1, 2, 5, 6],\n",
      "       [3, 4, 7, 8]])\n"
     ]
    }
   ],
   "source": [
    "array1 = np.array([[1,2],\n",
    "                  [3,4]])\n",
    "array2 = np.array([[5,6],\n",
    "                  [7,8]])\n",
    "\n",
    "array_concat = np.concatenate((array1,array2), axis=0)\n",
    "# el argumento axis permite decidir si cocatenar las filas (0) o columnas (1)\n",
    "pprint(array_concat)\n",
    "\n",
    "array_concat1 = np.concatenate((array1,array2), axis=1)\n",
    "pprint(array_concat1)\n"
   ]
  },
  {
   "cell_type": "code",
   "execution_count": 4,
   "id": "f5990d34",
   "metadata": {},
   "outputs": [
    {
     "name": "stdout",
     "output_type": "stream",
     "text": [
      "array([[1, 2, 3],\n",
      "       [4, 5, 6]])\n"
     ]
    }
   ],
   "source": [
    "a = np.array([1, 2, 3])\n",
    "b = np.array([4, 5, 6])\n",
    "\n",
    "pprint(np.vstack((a, b)))"
   ]
  },
  {
   "cell_type": "code",
   "execution_count": 5,
   "id": "6d948304",
   "metadata": {},
   "outputs": [
    {
     "name": "stdout",
     "output_type": "stream",
     "text": [
      "array([[1, 2, 3, 4, 5, 6]])\n"
     ]
    }
   ],
   "source": [
    "a = np.array([[1, 2, 3]])\n",
    "b = np.array([[4, 5, 6]])\n",
    "\n",
    "pprint(np.hstack((a, b)))"
   ]
  },
  {
   "cell_type": "code",
   "execution_count": 7,
   "id": "14b5ca27",
   "metadata": {},
   "outputs": [
    {
     "name": "stdout",
     "output_type": "stream",
     "text": [
      "[array([0, 1]), array([2, 3]), array([4, 5])]\n"
     ]
    }
   ],
   "source": [
    "arr = np.array([0, 1, 2, 3, 4, 5])\n",
    "\n",
    "pprint(np.split(arr, 3))   # divide en 3 partes iguales"
   ]
  },
  {
   "cell_type": "code",
   "execution_count": 9,
   "id": "30ef2c3d",
   "metadata": {},
   "outputs": [
    {
     "name": "stdout",
     "output_type": "stream",
     "text": [
      "array([1, 2, 3, 4, 5, 6])\n",
      "array([[99,  2,  3],\n",
      "       [ 4,  5,  6]])\n"
     ]
    }
   ],
   "source": [
    "arr2D = np.array([[1, 2, 3],\n",
    "                  [4, 5, 6]])\n",
    "\n",
    "ravel_arr = arr2D.ravel()\n",
    "pprint(ravel_arr)\n",
    "# Modifico el resultado para mostrar que afecta al original\n",
    "ravel_arr[0] = 99\n",
    "pprint(arr2D)"
   ]
  },
  {
   "cell_type": "code",
   "execution_count": 10,
   "id": "03442a00",
   "metadata": {},
   "outputs": [
    {
     "name": "stdout",
     "output_type": "stream",
     "text": [
      "[1 2 3 4 5 6]\n",
      "[[1 2 3]\n",
      " [4 5 6]]\n"
     ]
    }
   ],
   "source": [
    "arr2D = np.array([[1, 2, 3],\n",
    "                  [4, 5, 6]])\n",
    "\n",
    "flatten_arr = arr2D.flatten()\n",
    "print(flatten_arr)\n",
    "\n",
    "# Modifico el resultado para mostrar que NO afecta al original\n",
    "flatten_arr[0] = 99\n",
    "print(arr2D)"
   ]
  },
  {
   "cell_type": "code",
   "execution_count": 2,
   "id": "de43c66f",
   "metadata": {},
   "outputs": [
    {
     "data": {
      "text/plain": [
       "array([5, 7, 9])"
      ]
     },
     "execution_count": 2,
     "metadata": {},
     "output_type": "execute_result"
    }
   ],
   "source": [
    "a = np.array([1,2,3])\n",
    "b = np.array([4,5,6])\n",
    "\n",
    "c = a + b\n",
    "c"
   ]
  },
  {
   "cell_type": "code",
   "execution_count": 4,
   "id": "ee625285",
   "metadata": {},
   "outputs": [
    {
     "data": {
      "text/plain": [
       "array([-3, -3, -3])"
      ]
     },
     "execution_count": 4,
     "metadata": {},
     "output_type": "execute_result"
    }
   ],
   "source": [
    "c = a - b\n",
    "c"
   ]
  },
  {
   "cell_type": "code",
   "execution_count": 6,
   "id": "14838043",
   "metadata": {},
   "outputs": [
    {
     "data": {
      "text/plain": [
       "array([ 4, 10, 18])"
      ]
     },
     "execution_count": 6,
     "metadata": {},
     "output_type": "execute_result"
    }
   ],
   "source": [
    "c = a * b\n",
    "c"
   ]
  },
  {
   "cell_type": "code",
   "execution_count": 7,
   "id": "e509e393",
   "metadata": {},
   "outputs": [
    {
     "data": {
      "text/plain": [
       "array([0.25, 0.4 , 0.5 ])"
      ]
     },
     "execution_count": 7,
     "metadata": {},
     "output_type": "execute_result"
    }
   ],
   "source": [
    "c = a / b\n",
    "c"
   ]
  },
  {
   "cell_type": "code",
   "execution_count": 8,
   "id": "1967a257",
   "metadata": {},
   "outputs": [
    {
     "data": {
      "text/plain": [
       "array([  1,  32, 729])"
      ]
     },
     "execution_count": 8,
     "metadata": {},
     "output_type": "execute_result"
    }
   ],
   "source": [
    "c = a ** b\n",
    "c"
   ]
  },
  {
   "cell_type": "markdown",
   "id": "5c717172",
   "metadata": {},
   "source": []
  },
  {
   "cell_type": "code",
   "execution_count": null,
   "id": "e469552f",
   "metadata": {},
   "outputs": [],
   "source": []
  }
 ],
 "metadata": {
  "kernelspec": {
   "display_name": "Python 3",
   "language": "python",
   "name": "python3"
  },
  "language_info": {
   "codemirror_mode": {
    "name": "ipython",
    "version": 3
   },
   "file_extension": ".py",
   "mimetype": "text/x-python",
   "name": "python",
   "nbconvert_exporter": "python",
   "pygments_lexer": "ipython3",
   "version": "3.13.2"
  }
 },
 "nbformat": 4,
 "nbformat_minor": 5
}
